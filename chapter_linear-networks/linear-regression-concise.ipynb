{
 "cells": [
  {
   "cell_type": "markdown",
   "id": "ab6789e6",
   "metadata": {},
   "source": [
    "Installing (updating) the following libraries for your Sagemaker\n",
    "instance."
   ]
  },
  {
   "cell_type": "code",
   "execution_count": null,
   "id": "ec569ec8",
   "metadata": {},
   "outputs": [],
   "source": [
    "!pip install -U mxnet-cu101==1.7.0\n",
    "!pip install ..  # installing d2l\n"
   ]
  },
  {
   "cell_type": "markdown",
   "id": "9b725617",
   "metadata": {
    "origin_pos": 0
   },
   "source": [
    "# 线性回归的简洁实现\n",
    ":label:`sec_linear_concise`\n",
    "\n",
    "在过去的几年里，出于对深度学习强烈的兴趣，\n",
    "许多公司、学者和业余爱好者开发了各种成熟的开源框架。\n",
    "这些框架可以自动化基于梯度的学习算法中重复性的工作。\n",
    "在 :numref:`sec_linear_scratch`中，我们只运用了：\n",
    "（1）通过张量来进行数据存储和线性代数；\n",
    "（2）通过自动微分来计算梯度。\n",
    "实际上，由于数据迭代器、损失函数、优化器和神经网络层很常用，\n",
    "现代深度学习库也为我们实现了这些组件。\n",
    "\n",
    "本节将介绍如何(**通过使用深度学习框架来简洁地实现**)\n",
    " :numref:`sec_linear_scratch`中的(**线性回归模型**)。\n",
    "\n",
    "## 生成数据集\n",
    "\n",
    "与 :numref:`sec_linear_scratch`中类似，我们首先[**生成数据集**]。\n"
   ]
  },
  {
   "cell_type": "code",
   "execution_count": 1,
   "id": "f349d025",
   "metadata": {
    "execution": {
     "iopub.execute_input": "2023-08-14T18:56:16.721235Z",
     "iopub.status.busy": "2023-08-14T18:56:16.720493Z",
     "iopub.status.idle": "2023-08-14T18:56:19.736633Z",
     "shell.execute_reply": "2023-08-14T18:56:19.735659Z"
    },
    "origin_pos": 1,
    "tab": [
     "mxnet"
    ]
   },
   "outputs": [],
   "source": [
    "from mxnet import autograd, gluon, np, npx\n",
    "from d2l import mxnet as d2l\n",
    "\n",
    "npx.set_np()"
   ]
  },
  {
   "cell_type": "code",
   "execution_count": 2,
   "id": "c4671fdc",
   "metadata": {
    "execution": {
     "iopub.execute_input": "2023-08-14T18:56:19.740896Z",
     "iopub.status.busy": "2023-08-14T18:56:19.740265Z",
     "iopub.status.idle": "2023-08-14T18:56:19.749194Z",
     "shell.execute_reply": "2023-08-14T18:56:19.747889Z"
    },
    "origin_pos": 5,
    "tab": [
     "mxnet"
    ]
   },
   "outputs": [
    {
     "name": "stdout",
     "output_type": "stream",
     "text": [
      "[18:56:19] ../src/storage/storage.cc:196: Using Pooled (Naive) StorageManager for CPU\n"
     ]
    }
   ],
   "source": [
    "true_w = np.array([2, -3.4])\n",
    "true_b = 4.2\n",
    "features, labels = d2l.synthetic_data(true_w, true_b, 1000)"
   ]
  },
  {
   "cell_type": "markdown",
   "id": "438f61b4",
   "metadata": {
    "origin_pos": 6
   },
   "source": [
    "## 读取数据集\n",
    "\n",
    "我们可以[**调用框架中现有的API来读取数据**]。\n",
    "我们将`features`和`labels`作为API的参数传递，并通过数据迭代器指定`batch_size`。\n",
    "此外，布尔值`is_train`表示是否希望数据迭代器对象在每个迭代周期内打乱数据。\n"
   ]
  },
  {
   "cell_type": "code",
   "execution_count": 3,
   "id": "91c13381",
   "metadata": {
    "execution": {
     "iopub.execute_input": "2023-08-14T18:56:19.753954Z",
     "iopub.status.busy": "2023-08-14T18:56:19.753264Z",
     "iopub.status.idle": "2023-08-14T18:56:19.758032Z",
     "shell.execute_reply": "2023-08-14T18:56:19.757246Z"
    },
    "origin_pos": 7,
    "tab": [
     "mxnet"
    ]
   },
   "outputs": [],
   "source": [
    "def load_array(data_arrays, batch_size, is_train=True):  #@save\n",
    "    \"\"\"构造一个Gluon数据迭代器\"\"\"\n",
    "    dataset = gluon.data.ArrayDataset(*data_arrays)\n",
    "    return gluon.data.DataLoader(dataset, batch_size, shuffle=is_train)"
   ]
  },
  {
   "cell_type": "code",
   "execution_count": 4,
   "id": "a6375f53",
   "metadata": {
    "execution": {
     "iopub.execute_input": "2023-08-14T18:56:19.761387Z",
     "iopub.status.busy": "2023-08-14T18:56:19.760962Z",
     "iopub.status.idle": "2023-08-14T18:56:19.823541Z",
     "shell.execute_reply": "2023-08-14T18:56:19.822302Z"
    },
    "origin_pos": 11,
    "tab": [
     "mxnet"
    ]
   },
   "outputs": [],
   "source": [
    "batch_size = 10\n",
    "data_iter = load_array((features, labels), batch_size)"
   ]
  },
  {
   "cell_type": "markdown",
   "id": "af2d600e",
   "metadata": {
    "origin_pos": 12
   },
   "source": [
    "使用`data_iter`的方式与我们在 :numref:`sec_linear_scratch`中使用`data_iter`函数的方式相同。为了验证是否正常工作，让我们读取并打印第一个小批量样本。\n",
    "与 :numref:`sec_linear_scratch`不同，这里我们使用`iter`构造Python迭代器，并使用`next`从迭代器中获取第一项。\n"
   ]
  },
  {
   "cell_type": "code",
   "execution_count": 5,
   "id": "5445dc2b",
   "metadata": {
    "execution": {
     "iopub.execute_input": "2023-08-14T18:56:19.827052Z",
     "iopub.status.busy": "2023-08-14T18:56:19.826418Z",
     "iopub.status.idle": "2023-08-14T18:56:19.838403Z",
     "shell.execute_reply": "2023-08-14T18:56:19.837175Z"
    },
    "origin_pos": 13,
    "tab": [
     "mxnet"
    ]
   },
   "outputs": [
    {
     "data": {
      "text/plain": [
       "[array([[ 0.53679967, -1.8610498 ],\n",
       "        [ 0.38454786, -0.35048658],\n",
       "        [ 0.8591078 ,  0.66443396],\n",
       "        [ 1.8919657 ,  0.6615249 ],\n",
       "        [-0.1655887 , -0.3244336 ],\n",
       "        [-0.4602945 ,  0.02427522],\n",
       "        [-0.42830494, -0.31416425],\n",
       "        [-0.60534513, -0.39319903],\n",
       "        [-0.8898899 , -0.16971476],\n",
       "        [-0.5842632 ,  0.758026  ]]),\n",
       " array([[11.596521 ],\n",
       "        [ 6.171712 ],\n",
       "        [ 3.6709807],\n",
       "        [ 5.7306504],\n",
       "        [ 4.9732914],\n",
       "        [ 3.1892948],\n",
       "        [ 4.4029264],\n",
       "        [ 4.3220677],\n",
       "        [ 3.0085514],\n",
       "        [ 0.4558366]])]"
      ]
     },
     "execution_count": 5,
     "metadata": {},
     "output_type": "execute_result"
    }
   ],
   "source": [
    "next(iter(data_iter))"
   ]
  },
  {
   "cell_type": "markdown",
   "id": "76851874",
   "metadata": {
    "origin_pos": 14
   },
   "source": [
    "## 定义模型\n",
    "\n",
    "当我们在 :numref:`sec_linear_scratch`中实现线性回归时，\n",
    "我们明确定义了模型参数变量，并编写了计算的代码，这样通过基本的线性代数运算得到输出。\n",
    "但是，如果模型变得更加复杂，且当我们几乎每天都需要实现模型时，自然会想简化这个过程。\n",
    "这种情况类似于为自己的博客从零开始编写网页。\n",
    "做一两次是有益的，但如果每个新博客就需要工程师花一个月的时间重新开始编写网页，那并不高效。\n",
    "\n",
    "对于标准深度学习模型，我们可以[**使用框架的预定义好的层**]。这使我们只需关注使用哪些层来构造模型，而不必关注层的实现细节。\n",
    "我们首先定义一个模型变量`net`，它是一个`Sequential`类的实例。\n",
    "`Sequential`类将多个层串联在一起。\n",
    "当给定输入数据时，`Sequential`实例将数据传入到第一层，\n",
    "然后将第一层的输出作为第二层的输入，以此类推。\n",
    "在下面的例子中，我们的模型只包含一个层，因此实际上不需要`Sequential`。\n",
    "但是由于以后几乎所有的模型都是多层的，在这里使用`Sequential`会让你熟悉“标准的流水线”。\n",
    "\n",
    "回顾 :numref:`fig_single_neuron`中的单层网络架构，\n",
    "这一单层被称为*全连接层*（fully-connected layer），\n",
    "因为它的每一个输入都通过矩阵-向量乘法得到它的每个输出。\n"
   ]
  },
  {
   "cell_type": "markdown",
   "id": "3f2f65e6",
   "metadata": {
    "origin_pos": 15,
    "tab": [
     "mxnet"
    ]
   },
   "source": [
    "在Gluon中，全连接层在`Dense`类中定义。\n",
    "由于我们只想得到一个标量输出，所以我们将该数字设置为1。\n",
    "\n",
    "值得注意的是，为了方便使用，Gluon并不要求我们为每个层指定输入的形状。\n",
    "所以在这里，我们不需要告诉Gluon有多少输入进入这一层。\n",
    "当我们第一次尝试通过我们的模型传递数据时，例如，当后面执行`net(X)`时，\n",
    "Gluon会自动推断每个层输入的形状。\n",
    "本节稍后将详细介绍这种工作机制。\n"
   ]
  },
  {
   "cell_type": "code",
   "execution_count": 6,
   "id": "a07d60c9",
   "metadata": {
    "execution": {
     "iopub.execute_input": "2023-08-14T18:56:19.842113Z",
     "iopub.status.busy": "2023-08-14T18:56:19.841292Z",
     "iopub.status.idle": "2023-08-14T18:56:19.846795Z",
     "shell.execute_reply": "2023-08-14T18:56:19.845594Z"
    },
    "origin_pos": 19,
    "tab": [
     "mxnet"
    ]
   },
   "outputs": [],
   "source": [
    "# nn是神经网络的缩写\n",
    "from mxnet.gluon import nn\n",
    "\n",
    "net = nn.Sequential()\n",
    "net.add(nn.Dense(1))"
   ]
  },
  {
   "cell_type": "markdown",
   "id": "29cd96af",
   "metadata": {
    "origin_pos": 23
   },
   "source": [
    "## (**初始化模型参数**)\n",
    "\n",
    "在使用`net`之前，我们需要初始化模型参数。\n",
    "如在线性回归模型中的权重和偏置。\n",
    "深度学习框架通常有预定义的方法来初始化参数。\n",
    "在这里，我们指定每个权重参数应该从均值为0、标准差为0.01的正态分布中随机采样，\n",
    "偏置参数将初始化为零。\n"
   ]
  },
  {
   "cell_type": "markdown",
   "id": "8aab9cd6",
   "metadata": {
    "origin_pos": 24,
    "tab": [
     "mxnet"
    ]
   },
   "source": [
    "我们从MXNet导入`initializer`模块，这个模块提供了各种模型参数初始化方法。\n",
    "Gluon将`init`作为访问`initializer`包的快捷方式。\n",
    "我们可以通过调用`init.Normal(sigma=0.01)`来指定初始化权重的方法。\n",
    "默认情况下，偏置参数初始化为零。\n"
   ]
  },
  {
   "cell_type": "code",
   "execution_count": 7,
   "id": "7a79c293",
   "metadata": {
    "execution": {
     "iopub.execute_input": "2023-08-14T18:56:19.850018Z",
     "iopub.status.busy": "2023-08-14T18:56:19.849566Z",
     "iopub.status.idle": "2023-08-14T18:56:19.856056Z",
     "shell.execute_reply": "2023-08-14T18:56:19.854863Z"
    },
    "origin_pos": 28,
    "tab": [
     "mxnet"
    ]
   },
   "outputs": [],
   "source": [
    "from mxnet import init\n",
    "\n",
    "net.initialize(init.Normal(sigma=0.01))"
   ]
  },
  {
   "cell_type": "markdown",
   "id": "7bcdba71",
   "metadata": {
    "origin_pos": 32,
    "tab": [
     "mxnet"
    ]
   },
   "source": [
    "上面的代码可能看起来很简单，但是这里有一个应该注意到的细节：\n",
    "我们正在为网络初始化参数，而Gluon还不知道输入将有多少维!\n",
    "网络的输入可能有2维，也可能有2000维。\n",
    "Gluon让我们避免了这个问题，在后端执行时，初始化实际上是*推迟*（deferred）执行的，\n",
    "只有在我们第一次尝试通过网络传递数据时才会进行真正的初始化。\n",
    "请注意，因为参数还没有初始化，所以我们不能访问或操作它们。\n"
   ]
  },
  {
   "cell_type": "markdown",
   "id": "6508bf76",
   "metadata": {
    "origin_pos": 35
   },
   "source": [
    "## 定义损失函数\n"
   ]
  },
  {
   "cell_type": "markdown",
   "id": "f396f927",
   "metadata": {
    "origin_pos": 36,
    "tab": [
     "mxnet"
    ]
   },
   "source": [
    "在Gluon中，`loss`模块定义了各种损失函数。\n",
    "在这个例子中，我们将使用Gluon中的均方误差（`L2Loss`）。\n"
   ]
  },
  {
   "cell_type": "code",
   "execution_count": 8,
   "id": "2ccc8128",
   "metadata": {
    "execution": {
     "iopub.execute_input": "2023-08-14T18:56:19.859665Z",
     "iopub.status.busy": "2023-08-14T18:56:19.858813Z",
     "iopub.status.idle": "2023-08-14T18:56:19.863725Z",
     "shell.execute_reply": "2023-08-14T18:56:19.862582Z"
    },
    "origin_pos": 40,
    "tab": [
     "mxnet"
    ]
   },
   "outputs": [],
   "source": [
    "loss = gluon.loss.L2Loss()"
   ]
  },
  {
   "cell_type": "markdown",
   "id": "2be021fd",
   "metadata": {
    "origin_pos": 44
   },
   "source": [
    "## 定义优化算法\n"
   ]
  },
  {
   "cell_type": "markdown",
   "id": "bbe07963",
   "metadata": {
    "origin_pos": 45,
    "tab": [
     "mxnet"
    ]
   },
   "source": [
    "小批量随机梯度下降算法是一种优化神经网络的标准工具，\n",
    "Gluon通过`Trainer`类支持该算法的许多变种。\n",
    "当我们实例化`Trainer`时，我们要指定优化的参数\n",
    "（可通过`net.collect_params()`从我们的模型`net`中获得）、\n",
    "我们希望使用的优化算法（`sgd`）以及优化算法所需的超参数字典。\n",
    "小批量随机梯度下降只需要设置`learning_rate`值，这里设置为0.03。\n"
   ]
  },
  {
   "cell_type": "code",
   "execution_count": 9,
   "id": "8c49cdea",
   "metadata": {
    "execution": {
     "iopub.execute_input": "2023-08-14T18:56:19.867153Z",
     "iopub.status.busy": "2023-08-14T18:56:19.866599Z",
     "iopub.status.idle": "2023-08-14T18:56:19.871748Z",
     "shell.execute_reply": "2023-08-14T18:56:19.870609Z"
    },
    "origin_pos": 49,
    "tab": [
     "mxnet"
    ]
   },
   "outputs": [],
   "source": [
    "from mxnet import gluon\n",
    "\n",
    "trainer = gluon.Trainer(net.collect_params(), 'sgd', {'learning_rate': 0.03})"
   ]
  },
  {
   "cell_type": "markdown",
   "id": "6dfefdd8",
   "metadata": {
    "origin_pos": 53
   },
   "source": [
    "## 训练\n",
    "\n",
    "通过深度学习框架的高级API来实现我们的模型只需要相对较少的代码。\n",
    "我们不必单独分配参数、不必定义我们的损失函数，也不必手动实现小批量随机梯度下降。\n",
    "当我们需要更复杂的模型时，高级API的优势将大大增加。\n",
    "当我们有了所有的基本组件，[**训练过程代码与我们从零开始实现时所做的非常相似**]。\n",
    "\n",
    "回顾一下：在每个迭代周期里，我们将完整遍历一次数据集（`train_data`），\n",
    "不停地从中获取一个小批量的输入和相应的标签。\n",
    "对于每一个小批量，我们会进行以下步骤:\n",
    "\n",
    "* 通过调用`net(X)`生成预测并计算损失`l`（前向传播）。\n",
    "* 通过进行反向传播来计算梯度。\n",
    "* 通过调用优化器来更新模型参数。\n",
    "\n",
    "为了更好的衡量训练效果，我们计算每个迭代周期后的损失，并打印它来监控训练过程。\n"
   ]
  },
  {
   "cell_type": "code",
   "execution_count": 10,
   "id": "5824e91e",
   "metadata": {
    "execution": {
     "iopub.execute_input": "2023-08-14T18:56:19.875294Z",
     "iopub.status.busy": "2023-08-14T18:56:19.874560Z",
     "iopub.status.idle": "2023-08-14T18:56:21.445842Z",
     "shell.execute_reply": "2023-08-14T18:56:21.444935Z"
    },
    "origin_pos": 54,
    "tab": [
     "mxnet"
    ]
   },
   "outputs": [
    {
     "name": "stdout",
     "output_type": "stream",
     "text": [
      "[18:56:19] ../src/base.cc:48: GPU context requested, but no GPUs found.\n"
     ]
    },
    {
     "name": "stdout",
     "output_type": "stream",
     "text": [
      "epoch 1, loss 0.025107\n"
     ]
    },
    {
     "name": "stdout",
     "output_type": "stream",
     "text": [
      "epoch 2, loss 0.000089\n"
     ]
    },
    {
     "name": "stdout",
     "output_type": "stream",
     "text": [
      "epoch 3, loss 0.000051\n"
     ]
    }
   ],
   "source": [
    "num_epochs = 3\n",
    "for epoch in range(num_epochs):\n",
    "    for X, y in data_iter:\n",
    "        with autograd.record():\n",
    "            l = loss(net(X), y)\n",
    "        l.backward()\n",
    "        trainer.step(batch_size)\n",
    "    l = loss(net(features), labels)\n",
    "    print(f'epoch {epoch + 1}, loss {l.mean().asnumpy():f}')"
   ]
  },
  {
   "cell_type": "markdown",
   "id": "ecd7589f",
   "metadata": {
    "origin_pos": 58
   },
   "source": [
    "下面我们[**比较生成数据集的真实参数和通过有限数据训练获得的模型参数**]。\n",
    "要访问参数，我们首先从`net`访问所需的层，然后读取该层的权重和偏置。\n",
    "正如在从零开始实现中一样，我们估计得到的参数与生成数据的真实参数非常接近。\n"
   ]
  },
  {
   "cell_type": "code",
   "execution_count": 11,
   "id": "1aacf1d5",
   "metadata": {
    "execution": {
     "iopub.execute_input": "2023-08-14T18:56:21.451222Z",
     "iopub.status.busy": "2023-08-14T18:56:21.450542Z",
     "iopub.status.idle": "2023-08-14T18:56:21.457335Z",
     "shell.execute_reply": "2023-08-14T18:56:21.456443Z"
    },
    "origin_pos": 59,
    "tab": [
     "mxnet"
    ]
   },
   "outputs": [
    {
     "name": "stdout",
     "output_type": "stream",
     "text": [
      "w的估计误差： [ 0.00050879 -0.00012374]\n",
      "b的估计误差： [9.584427e-05]\n"
     ]
    }
   ],
   "source": [
    "w = net[0].weight.data()\n",
    "print(f'w的估计误差： {true_w - w.reshape(true_w.shape)}')\n",
    "b = net[0].bias.data()\n",
    "print(f'b的估计误差： {true_b - b}')"
   ]
  },
  {
   "cell_type": "markdown",
   "id": "1751a57c",
   "metadata": {
    "origin_pos": 63
   },
   "source": [
    "## 小结\n"
   ]
  },
  {
   "cell_type": "markdown",
   "id": "4ce2b111",
   "metadata": {
    "origin_pos": 64,
    "tab": [
     "mxnet"
    ]
   },
   "source": [
    "* 我们可以使用Gluon更简洁地实现模型。\n",
    "* 在Gluon中，`data`模块提供了数据处理工具，`nn`模块定义了大量的神经网络层，`loss`模块定义了许多常见的损失函数。\n",
    "* MXNet的`initializer`模块提供了各种模型参数初始化方法。\n",
    "* 维度和存储可以自动推断，但注意不要在初始化参数之前尝试访问参数。\n"
   ]
  },
  {
   "cell_type": "markdown",
   "id": "8a134295",
   "metadata": {
    "origin_pos": 67
   },
   "source": [
    "## 练习\n",
    "\n",
    "1. 如果将小批量的总损失替换为小批量损失的平均值，需要如何更改学习率？\n",
    "1. 查看深度学习框架文档，它们提供了哪些损失函数和初始化方法？用Huber损失代替原损失，即\n",
    "    $$l(y,y') = \\begin{cases}|y-y'| -\\frac{\\sigma}{2} & \\text{ if } |y-y'| > \\sigma \\\\ \\frac{1}{2 \\sigma} (y-y')^2 & \\text{ 其它情况}\\end{cases}$$\n",
    "1. 如何访问线性回归的梯度？\n"
   ]
  },
  {
   "cell_type": "markdown",
   "id": "18e21b75",
   "metadata": {
    "origin_pos": 68,
    "tab": [
     "mxnet"
    ]
   },
   "source": [
    "[Discussions](https://discuss.d2l.ai/t/1782)\n"
   ]
  }
 ],
 "metadata": {
  "kernelspec": {
   "display_name": "conda_mxnet_p36",
   "name": "conda_mxnet_p36"
  },
  "language_info": {
   "name": "python"
  },
  "required_libs": []
 },
 "nbformat": 4,
 "nbformat_minor": 5
}